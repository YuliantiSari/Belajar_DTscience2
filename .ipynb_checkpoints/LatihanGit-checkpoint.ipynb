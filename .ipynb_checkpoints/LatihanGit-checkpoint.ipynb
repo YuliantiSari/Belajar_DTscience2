{
 "cells": [
  {
   "cell_type": "code",
   "execution_count": 1,
   "id": "faa932d7-4378-456f-803e-23e91154eb71",
   "metadata": {},
   "outputs": [],
   "source": [
    "x=1+2"
   ]
  },
  {
   "cell_type": "code",
   "execution_count": 2,
   "id": "f174cc2a-3dc8-4d7f-a084-ef0b869263bf",
   "metadata": {},
   "outputs": [
    {
     "name": "stdout",
     "output_type": "stream",
     "text": [
      "3\n"
     ]
    }
   ],
   "source": [
    "print(x)"
   ]
  },
  {
   "cell_type": "code",
   "execution_count": 1,
   "id": "1bb3df37-50a3-4fe2-8161-59d522874da2",
   "metadata": {},
   "outputs": [],
   "source": [
    "y=5"
   ]
  },
  {
   "cell_type": "code",
   "execution_count": null,
   "id": "0595873d-b36e-4033-bac6-f80663d1d5cd",
   "metadata": {},
   "outputs": [],
   "source": []
  }
 ],
 "metadata": {
  "kernelspec": {
   "display_name": "Python 3 (ipykernel)",
   "language": "python",
   "name": "python3"
  },
  "language_info": {
   "codemirror_mode": {
    "name": "ipython",
    "version": 3
   },
   "file_extension": ".py",
   "mimetype": "text/x-python",
   "name": "python",
   "nbconvert_exporter": "python",
   "pygments_lexer": "ipython3",
   "version": "3.11.7"
  }
 },
 "nbformat": 4,
 "nbformat_minor": 5
}
