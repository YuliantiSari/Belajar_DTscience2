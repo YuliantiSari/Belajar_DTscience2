{
 "cells": [
  {
   "cell_type": "code",
   "execution_count": 1,
   "id": "faa932d7-4378-456f-803e-23e91154eb71",
   "metadata": {},
   "outputs": [],
   "source": [
    "x=1+2"
   ]
  },
  {
   "cell_type": "code",
   "execution_count": 2,
   "id": "f174cc2a-3dc8-4d7f-a084-ef0b869263bf",
   "metadata": {},
   "outputs": [
    {
     "name": "stdout",
     "output_type": "stream",
     "text": [
      "3\n"
     ]
    }
   ],
   "source": [
    "print(x)"
   ]
  },
  {
   "cell_type": "code",
   "execution_count": 1,
   "id": "1bb3df37-50a3-4fe2-8161-59d522874da2",
   "metadata": {},
   "outputs": [],
   "source": [
    "y=5"
   ]
  },
  {
   "cell_type": "code",
   "execution_count": 1,
   "id": "0595873d-b36e-4033-bac6-f80663d1d5cd",
   "metadata": {},
   "outputs": [
    {
     "name": "stdout",
     "output_type": "stream",
     "text": [
      "On branch main\n",
      "Your branch is up to date with 'origin/main'.\n",
      "\n",
      "Changes not staged for commit:\n",
      "  (use \"git add <file>...\" to update what will be committed)\n",
      "  (use \"git restore <file>...\" to discard changes in working directory)\n",
      "\t\u001b[31mmodified:   Python Collection.ipynb\u001b[m\n",
      "\n",
      "Untracked files:\n",
      "  (use \"git add <file>...\" to include in what will be committed)\n",
      "\t\u001b[31m.ipynb_checkpoints/\u001b[m\n",
      "\t\u001b[31mLatihanGit.ipynb\u001b[m\n",
      "\n",
      "no changes added to commit (use \"git add\" and/or \"git commit -a\")\n"
     ]
    }
   ],
   "source": [
    "! git status "
   ]
  },
  {
   "cell_type": "code",
   "execution_count": 2,
   "id": "4c893b34-4d11-4c25-aa92-4795a221c999",
   "metadata": {},
   "outputs": [],
   "source": [
    "! git add ."
   ]
  },
  {
   "cell_type": "code",
   "execution_count": 3,
   "id": "bf13829d-3880-4cc1-8123-0f6da76be430",
   "metadata": {},
   "outputs": [
    {
     "name": "stdout",
     "output_type": "stream",
     "text": [
      "On branch main\n",
      "Your branch is up to date with 'origin/main'.\n",
      "\n",
      "Changes to be committed:\n",
      "  (use \"git restore --staged <file>...\" to unstage)\n",
      "\t\u001b[32mnew file:   .ipynb_checkpoints/LatihanGit-checkpoint.ipynb\u001b[m\n",
      "\t\u001b[32mnew file:   .ipynb_checkpoints/Python Collection-checkpoint.ipynb\u001b[m\n",
      "\t\u001b[32mnew file:   LatihanGit.ipynb\u001b[m\n",
      "\t\u001b[32mmodified:   Python Collection.ipynb\u001b[m\n",
      "\n"
     ]
    }
   ],
   "source": [
    "! git status"
   ]
  },
  {
   "cell_type": "code",
   "execution_count": 4,
   "id": "d9e9ad28-6810-466d-81d1-5e15e99cf0b4",
   "metadata": {},
   "outputs": [
    {
     "name": "stdout",
     "output_type": "stream",
     "text": [
      "[main a027579] add new file\n",
      " 4 files changed, 3678 insertions(+)\n",
      " create mode 100644 .ipynb_checkpoints/LatihanGit-checkpoint.ipynb\n",
      " create mode 100644 .ipynb_checkpoints/Python Collection-checkpoint.ipynb\n",
      " create mode 100644 LatihanGit.ipynb\n"
     ]
    }
   ],
   "source": [
    "! git commit -m \"add new file\""
   ]
  },
  {
   "cell_type": "code",
   "execution_count": 5,
   "id": "a2056ebf-f5fa-43eb-b70c-3cd1375c25cd",
   "metadata": {},
   "outputs": [
    {
     "name": "stdout",
     "output_type": "stream",
     "text": [
      "On branch main\n",
      "Your branch is ahead of 'origin/main' by 1 commit.\n",
      "  (use \"git push\" to publish your local commits)\n",
      "\n",
      "Changes not staged for commit:\n",
      "  (use \"git add <file>...\" to update what will be committed)\n",
      "  (use \"git restore <file>...\" to discard changes in working directory)\n",
      "\t\u001b[31mmodified:   LatihanGit.ipynb\u001b[m\n",
      "\n",
      "no changes added to commit (use \"git add\" and/or \"git commit -a\")\n"
     ]
    }
   ],
   "source": [
    "! git status "
   ]
  },
  {
   "cell_type": "code",
   "execution_count": null,
   "id": "0c5a592b-a826-4a56-8fcb-599cb3a2a162",
   "metadata": {},
   "outputs": [
    {
     "name": "stdout",
     "output_type": "stream",
     "text": [
      "Username for 'https://github.com': "
     ]
    }
   ],
   "source": [
    "! git push origin"
   ]
  },
  {
   "cell_type": "code",
   "execution_count": null,
   "id": "6f1f6bf1-cc33-4568-8072-3e8a8cbe0507",
   "metadata": {},
   "outputs": [],
   "source": []
  }
 ],
 "metadata": {
  "kernelspec": {
   "display_name": "Python 3 (ipykernel)",
   "language": "python",
   "name": "python3"
  },
  "language_info": {
   "codemirror_mode": {
    "name": "ipython",
    "version": 3
   },
   "file_extension": ".py",
   "mimetype": "text/x-python",
   "name": "python",
   "nbconvert_exporter": "python",
   "pygments_lexer": "ipython3",
   "version": "3.11.7"
  }
 },
 "nbformat": 4,
 "nbformat_minor": 5
}
